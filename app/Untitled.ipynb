{
 "cells": [
  {
   "cell_type": "code",
   "execution_count": 1,
   "id": "1b8245f4-9ce1-453f-998f-f52618aeeb4f",
   "metadata": {},
   "outputs": [],
   "source": [
    "import re"
   ]
  },
  {
   "cell_type": "code",
   "execution_count": 16,
   "id": "50ffa928-d1a1-4a7b-a925-25f907eb6053",
   "metadata": {},
   "outputs": [],
   "source": [
    "url = \"https://www.comprasparaguai.com.br/celular-apple-iphone-15-pro-max-256gb_48864/\""
   ]
  },
  {
   "cell_type": "code",
   "execution_count": 17,
   "id": "6294425c-cb45-4cc4-bafe-bc56a54fcdef",
   "metadata": {},
   "outputs": [
    {
     "data": {
      "text/plain": [
       "'Celular Apple Iphone 15 Pro Max 256Gb'"
      ]
     },
     "execution_count": 17,
     "metadata": {},
     "output_type": "execute_result"
    }
   ],
   "source": []
  },
  {
   "cell_type": "code",
   "execution_count": null,
   "id": "6d870a9d-988a-4c1f-b416-2ad39eeebcc0",
   "metadata": {},
   "outputs": [],
   "source": []
  }
 ],
 "metadata": {
  "kernelspec": {
   "display_name": "Python 3 (ipykernel)",
   "language": "python",
   "name": "python3"
  },
  "language_info": {
   "codemirror_mode": {
    "name": "ipython",
    "version": 3
   },
   "file_extension": ".py",
   "mimetype": "text/x-python",
   "name": "python",
   "nbconvert_exporter": "python",
   "pygments_lexer": "ipython3",
   "version": "3.12.2"
  }
 },
 "nbformat": 4,
 "nbformat_minor": 5
}
